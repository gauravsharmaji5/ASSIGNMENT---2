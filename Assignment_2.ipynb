{
  "nbformat": 4,
  "nbformat_minor": 0,
  "metadata": {
    "colab": {
      "provenance": []
    },
    "kernelspec": {
      "name": "python3",
      "display_name": "Python 3"
    },
    "language_info": {
      "name": "python"
    }
  },
  "cells": [
    {
      "cell_type": "markdown",
      "source": [
        "Q.1  What are data structures, and why are they important...?\n",
        "Ans.1 Data structures are specialized formats for organizing, storing, and managing data efficiently in computer memory. They allow programs to access and manipulate data quickly and effectively, forming the backbone of software applications and algorithms."
      ],
      "metadata": {
        "id": "y55QLuyaibdT"
      }
    },
    {
      "cell_type": "markdown",
      "source": [
        "Q.2  Explain the difference between mutable and immutable data types with examples..?\n",
        "Ans.2 (1) Mutable Data Types\n",
        "Mutable data types allow modifications to their content without changing their identity (memory address).\n",
        "Examples of Mutable Data Types:\n",
        "- Lists:\n",
        "my_list = [1, 2, 3]\n",
        "my_list[0] = 100  # Modifying the first element\n",
        "print(my_list)  # Output: [100, 2, 3]\n",
        "\n",
        "(2)Immutable Data Types\n",
        "Immutable data types do not allow modifications once they are created. Any change results in the creation of a new object.\n",
        "Examples of Immutable Data Types:\n",
        "- Tuples:\n",
        "my_tuple = (1, 2, 3)\n",
        "my_tuple[0] = 100  # This will cause an error!\n",
        "-\n"
      ],
      "metadata": {
        "id": "P8mY8n-EioBK"
      }
    },
    {
      "cell_type": "markdown",
      "source": [
        "Q.3  What are the main differences between lists and tuples in Python...?\n",
        "Ans.3 Main difference between list and tuple. List are mutable and tuple are immutable.\n",
        "1. Lists – Mutable Behavior\n",
        "my_list = [1, 2, 3]\n",
        "my_list.append(4)  # ✅ Allowed\n",
        "my_list[0] = 100   # ✅ Allowed\n",
        "print(my_list)  # Output:\n",
        "\n",
        "2. Tuples – Immutable Behavior\n",
        "my_tuple = (1, 2, 3)\n",
        "my_tuple[0] = 100  # ❌ Error! Tuples cannot be modified."
      ],
      "metadata": {
        "id": "lfHoftu9jrH9"
      }
    },
    {
      "cell_type": "markdown",
      "source": [
        "Q.4  Describe how dictionaries store data...?\n",
        "Ans.4 Dictionaries in Python store data using a key-value mapping system, making data retrieval efficient and flexible.\n",
        "How Dictionaries Store Data\n",
        "- Each item in a dictionary consists of a key and a corresponding value.\n",
        "- Keys must be unique and immutable (e.g., strings, numbers, tuples).\n",
        "- Values can be any data type, including lists, dictionaries, or even functions.\n",
        "- Python dictionaries use hashing to store and retrieve values quickly.\n"
      ],
      "metadata": {
        "id": "bttA1gQNkyDW"
      }
    },
    {
      "cell_type": "markdown",
      "source": [],
      "metadata": {
        "id": "acEWL8zMkfuG"
      }
    },
    {
      "cell_type": "markdown",
      "source": [
        "Q.5 Why might you use a set instead of a list in Python...?\n",
        "Ans.5  While both sets and lists store collections of data, there are specific reasons why you might choose a set over a list in Python.\n",
        "Key Advantages of Using a Set Instead of a List\n",
        "- Automatic Removal of Duplicates\n",
        "- Sets store only unique elements, meaning they automatically remove duplicates.\n",
        "- Example:\n",
        "my_list = [1, 2, 2, 3, 3, 3, 4]\n",
        "my_set = set(my_list)\n",
        "print(my_set)  # Output: {1, 2, 3, 4}"
      ],
      "metadata": {
        "id": "Nl4qistClGQO"
      }
    },
    {
      "cell_type": "markdown",
      "source": [
        "Q.6  What is a string in Python, and how is it different from a list...?\n",
        "Ans.6 In Python, a string is a sequence of characters, whereas a list is a collection of multiple elements (which can be characters, numbers, or even other lists).\n"
      ],
      "metadata": {
        "id": "PvVUuEfnlcog"
      }
    },
    {
      "cell_type": "markdown",
      "source": [
        "Q.7  How do tuples ensure data integrity in Python...?\n",
        "Ans.7 Tuples ensure data integrity in Python primarily through immutability, meaning once created, they cannot be modified. This characteristic makes tuples a reliable choice in scenarios where data consistency and protection from unintended changes are crucial."
      ],
      "metadata": {
        "id": "U1xpxezLlwWY"
      }
    },
    {
      "cell_type": "markdown",
      "source": [
        "Q.8  What is a hash table, and how does it relate to dictionaries in Python...?\n",
        "Ans.8 A hash table is a data structure that uses hashing to store and retrieve key-value pairs efficiently. It maps keys to values using a hash function, which transforms each key into a unique index.\n",
        "How Hash Tables Work\n",
        "- Hashing – A key is passed through a hash function, generating an index.\n",
        "- Storage – The key-value pair is stored at the computed index.\n",
        "- Retrieval – When the key is searched, the hash function quickly locates its corresponding value.\n"
      ],
      "metadata": {
        "id": "IPI-V6sdmbM5"
      }
    },
    {
      "cell_type": "markdown",
      "source": [
        "Q.9 Can lists contain different data types in Python...?\n",
        "Ans.9 Yes.In Python, lists can contain different data types within the same list, making them highly flexible and useful for various applications\n",
        "my_list = [25, \"Hello\", 3.14, True, [1, 2, 3], {\"key\": \"value\"}]\n",
        "print(my_list)"
      ],
      "metadata": {
        "id": "08hJXaVFm2gj"
      }
    },
    {
      "cell_type": "markdown",
      "source": [
        "Q.10  Explain why strings are immutable in Python...?\n",
        "Ans. Strings are immutable in Python, meaning that once they are created, their contents cannot be changed. This design choice provides several advantages in terms of performance, security, and memory management.\n",
        "\n",
        "a = \"hello\"\n",
        "b = \"hello\"\n",
        "print(a is b)  # Output: True (both reference the same object)"
      ],
      "metadata": {
        "id": "08gHOe46ndVd"
      }
    },
    {
      "cell_type": "markdown",
      "source": [
        "Q.11 What advantages do dictionaries offer over lists for certain tasks...?\n",
        "Ans.11 Dictionaries offer several advantages over lists in Python, especially when dealing with key-value pair storage, fast lookups, and efficient data organization.\n",
        "Advantages of Dictionaries Over Lists\n",
        "- Fast Lookups (O(1) Complexity)\n",
        "- Dictionaries use hash tables, making data retrieval instant (compared to lists, which require searching through each element).\n",
        "- Key-Based Organization\n",
        "- Dictionaries allow easy access using meaningful keys, while lists require index-based retrieval.\n",
        "- Lists work well for ordered data, but when searching is frequent, dictionaries are superior.\n",
        "- Efficient Storage for Mappings\n",
        "- If you need to store associations between values, dictionaries are ideal.\n"
      ],
      "metadata": {
        "id": "xtUWrGL0nvhc"
      }
    },
    {
      "cell_type": "markdown",
      "source": [
        "Q.12  Describe a scenario where using a tuple would be preferable over a list...?\n",
        "Ans.12 Scenario: Storing Configuration Settings\n",
        "Imagine you’re developing a program that requires fixed system settings, such as database connection parameters. These settings should not be modified during execution.\n",
        "DB_CONFIG = (\"localhost\", 5432, \"admin\", \"password123\")  # Immutable database settings\n",
        "\n",
        "def connect_to_db(config):\n",
        "    print(f\"Connecting to {config[0]} on port {config[1]}...\")\n",
        "\n",
        "connect_to_db(DB_CONFIG)\n"
      ],
      "metadata": {
        "id": "59PusbuhoeL_"
      }
    },
    {
      "cell_type": "markdown",
      "source": [
        "Q.13 How do sets handle duplicate values in Python...?\n",
        "Ans.13 Sets in Python automatically remove duplicate values, ensuring that all elements within a set are unique.\n",
        "How Sets Handle Duplicates\n",
        "- When a set is created, any duplicate values are eliminated.\n",
        "- Unlike lists, which allow multiple occurrences of the same element, sets only keep one instance of each unique value.\n"
      ],
      "metadata": {
        "id": "dyfW0FDGpisx"
      }
    },
    {
      "cell_type": "markdown",
      "source": [
        "Q.14 How does the “in” keyword work differently for lists and dictionaries...?\n",
        "\n",
        "Ans.14 The in keyword is used to check membership in Python, but it behaves differently for lists and dictionaries due to their underlying structures.\n",
        "How in Works for Lists\n",
        "- Linear Search (O(n) Complexity) – Python scans each element one by one.\n",
        "- Checks for Presence of a Value – Finds whether a specific item exists in the list.\n",
        "- Slower for Large Lists – As the list grows, search time increases.\n",
        "How in Works for Dictionaries\n",
        "- Uses Hashing (O(1) Complexity)\n",
        "- Checks for Key, Not Value – The in keyword only looks at keys, not values.\n",
        "- Much Faster Than Lists – Dictionary lookups happen instantly because of hash tables.\n"
      ],
      "metadata": {
        "id": "4pbGElLep0bB"
      }
    },
    {
      "cell_type": "markdown",
      "source": [
        "Q.15 Can you modify the elements of a tuple? Explain why or why not....?\n",
        "Ans.15 No, you cannot modify the elements of a tuple in Python because tuples are immutable. This means that once a tuple is created, its contents cannot be changed, added, or removed.\n",
        "Why Are Tuples Immutable?\n",
        "- Memory Efficiency – Since tuples cannot change, Python optimizes their storage by allocating fixed memory, making them more efficient than lists.\n",
        "- Data Integrity & Security – Tuples prevent accidental modification, making them ideal for storing critical or fixed data (e.g., configuration settings).\n",
        "- Hashability for Dictionary Keys – Unlike lists, tuples can be used as dictionary keys because their contents remain constant.\n"
      ],
      "metadata": {
        "id": "OL-TPQD6qNRb"
      }
    },
    {
      "cell_type": "markdown",
      "source": [
        "Q.16 What is a nested dictionary, and give an example of its use case...?\n",
        "Ans.16 A nested dictionary is a dictionary that contains another dictionary as a value. It allows hierarchical storage of data, making it useful for complex data structures where items need to be categorized or grouped logically.\n",
        "students = {\n",
        "    \"Ajay\": {\"age\": 22, \"skills\": [\"Python\", \"Data Science\"], \"grade\": \"A\"},\n",
        "    \"Rahul\": {\"age\": 21, \"skills\": [\"Java\", \"Web Development\"], \"grade\": \"B\"},\n",
        "    \"Meena\": {\"age\": 23, \"skills\": [\"Machine Learning\", \"AI\"], \"grade\": \"A+\"}\n",
        "}\n",
        "\n",
        "# Accessing nested values\n",
        "print(students[\"Ajay\"][\"skills\"])  # Output: ['Python', 'Data Science']\n",
        "print(students[\"Meena\"][\"grade\"])  # Output: 'A+'"
      ],
      "metadata": {
        "id": "53fJWGrWrAeD"
      }
    },
    {
      "cell_type": "markdown",
      "source": [
        "Q.17  Describe the time complexity of accessing elements in a dictionary...?\n",
        "Ans.17 Accessing elements in a Python dictionary is highly efficient, thanks to its hash table implementation. The time complexity depends on whether hashing works smoothly or encounters collisions.\n",
        "Time Complexity of Dictionary Access\n",
        "✅ Best Case (O(1)) – Constant Time\n",
        "- When a key is directly mapped to a memory location via hashing, lookup happens instantly.\n",
        "my_dict = {\"name\": \"Ajay\", \"age\": 22}\n",
        "print(my_dict[\"name\"])  # ✅ Fast lookup (O(1))"
      ],
      "metadata": {
        "id": "DqFi9DF-rZI8"
      }
    },
    {
      "cell_type": "markdown",
      "source": [],
      "metadata": {
        "id": "VHqjOrhkryI1"
      }
    },
    {
      "cell_type": "markdown",
      "source": [
        "Q.18  In what situations are lists preferred over dictionaries...?\n",
        "Ans.18 Lists are preferred over dictionaries in Python when ordered, sequential storage is needed or when index-based operations are required.\n",
        "Situations Where Lists Are Preferred Over Dictionaries\n",
        "- Preserving Order\n",
        "- Lists maintain the sequence of elements, making them ideal for ordered data.\n",
        "- Dictionaries, on the other hand, don’t always preserve insertion order in older Python versions.\n",
        "- Simple Iteration & Index-Based Access\n",
        "- Lists allow index-based retrieval, while dictionaries rely on key-based access.\n",
        "- Handling Duplicates\n",
        "- Lists allow duplicate values, while dictionaries only store unique keys.\n",
        "- Sorting and Transformation\n",
        "- Lists support sorting, reversing, and other operations easily.\n"
      ],
      "metadata": {
        "id": "26n3OUfNr6EI"
      }
    },
    {
      "cell_type": "markdown",
      "source": [
        "Q.19 Why are dictionaries considered unordered, and how does that affect data retrieval...?\n",
        "Ans.19 Dictionaries in Python are considered unordered because they do not maintain a fixed sequence of keys like lists do. Instead, they store key-value pairs based on hashing, which optimizes lookup performance but does not guarantee a predictable order of elements.\n",
        "Why Are Dictionaries Unordered?\n",
        "- Hash Table Implementation\n",
        "- Dictionaries use hash functions to map keys to memory locations.\n",
        "- Since hashing distributes keys without regard to order, elements may not appear in the same sequence they were added.\n",
        "- Optimization for Fast Lookups\n",
        "- Instead of preserving order, dictionaries prioritize quick access, making lookup operations O(1) (constant time).\n",
        "- Behavior Before Python 3.7 vs. After\n",
        "- Before Python 3.7: Dictionaries were completely unordered.\n",
        "- Since Python 3.7: They maintain insertion order, but this is an implementation detail rather than a strict guarantee.\n"
      ],
      "metadata": {
        "id": "rpJ6YQ5zsdRw"
      }
    },
    {
      "cell_type": "markdown",
      "source": [
        "Q.20  Explain the difference between a list and a dictionary in terms of data retrieval....?\n",
        "Ans.20 How Data Retrieval Works\n",
        "- Lists (Index-Based Access)\n",
        "- Elements are accessed using their position (index) in the list.\n",
        "- Retrieval requires iterating through elements when searching.\n",
        "- Example:\n",
        "my_list = [\"apple\", \"banana\", \"cherry\"]\n",
        "print(my_list[1])  # ✅ Retrieves \"banana\" using index\n",
        "- Dictionaries (Key-Based Access)\n",
        "- Data is mapped using keys, allowing instant retrieval via hashing.\n",
        "- Example:\n",
        "my_dict = {\"name\": \"Ajay\", \"language\": \"Python\"}\n",
        "print(my_dict[\"name\"])  # ✅ Retrieves \"Ajay\" instantly"
      ],
      "metadata": {
        "id": "29T9FPs0uUXq"
      }
    },
    {
      "cell_type": "markdown",
      "source": [
        "Q.1  Write a code to create a string with your name and print it...?"
      ],
      "metadata": {
        "id": "cB6t-s5NNong"
      }
    },
    {
      "cell_type": "code",
      "source": [
        "#Ans.1\n",
        "name = \"Gaurav\"\n",
        "print(name)"
      ],
      "metadata": {
        "colab": {
          "base_uri": "https://localhost:8080/"
        },
        "id": "r8xkbmnZNxbJ",
        "outputId": "bc7ccce9-802d-419c-9c67-fc925c26acc2"
      },
      "execution_count": null,
      "outputs": [
        {
          "output_type": "stream",
          "name": "stdout",
          "text": [
            "Gaurav\n"
          ]
        }
      ]
    },
    {
      "cell_type": "markdown",
      "source": [
        "Q.2  Write a code to find the length of the string \"Hello World\"...?"
      ],
      "metadata": {
        "id": "s4tL0FiCOokC"
      }
    },
    {
      "cell_type": "code",
      "source": [
        "#Ans.2\n",
        "string = \"Hello World\"\n",
        "length = len(string)\n",
        "print(length)"
      ],
      "metadata": {
        "colab": {
          "base_uri": "https://localhost:8080/"
        },
        "id": "WRbKDXsjOvOb",
        "outputId": "0517dd55-ae44-43ff-d6b1-1af7d456f4e4"
      },
      "execution_count": null,
      "outputs": [
        {
          "output_type": "stream",
          "name": "stdout",
          "text": [
            "11\n"
          ]
        }
      ]
    },
    {
      "cell_type": "markdown",
      "source": [
        "Q.3 Write a code to slice the first 3 characters from the string \"Python Programming\"....?"
      ],
      "metadata": {
        "id": "N6PY64kSPBO5"
      }
    },
    {
      "cell_type": "code",
      "source": [
        "#Ans.3\n",
        "string = \"Python Programming\"\n",
        "sliced_string = string[:3]\n",
        "print(sliced_string)\n"
      ],
      "metadata": {
        "colab": {
          "base_uri": "https://localhost:8080/"
        },
        "id": "VaFQ7EXLPFfM",
        "outputId": "8c516c51-66a1-459e-c186-08b8720e5eba"
      },
      "execution_count": null,
      "outputs": [
        {
          "output_type": "stream",
          "name": "stdout",
          "text": [
            "Pyt\n"
          ]
        }
      ]
    },
    {
      "cell_type": "markdown",
      "source": [
        "Q.4  Write a code to convert the string \"hello\" to uppercase....?"
      ],
      "metadata": {
        "id": "KKOJU6soP7nX"
      }
    },
    {
      "cell_type": "code",
      "source": [
        "#Ans.4\n",
        "string = \"hello\"\n",
        "uppercase_string = string.upper()\n",
        "print(uppercase_string)"
      ],
      "metadata": {
        "colab": {
          "base_uri": "https://localhost:8080/"
        },
        "id": "ipgfamPVQCGp",
        "outputId": "769010c6-a747-4f7f-feb0-4314191c8b73"
      },
      "execution_count": null,
      "outputs": [
        {
          "output_type": "stream",
          "name": "stdout",
          "text": [
            "HELLO\n"
          ]
        }
      ]
    },
    {
      "cell_type": "markdown",
      "source": [
        "Q.5 Write a code to replace the word \"apple\" with \"orange\" in the string \"I like apple\"...?"
      ],
      "metadata": {
        "id": "foxwSEjCQKnC"
      }
    },
    {
      "cell_type": "code",
      "source": [
        "#Ans.5\n",
        "string = \"I like apple\"\n",
        "replaced_string = string.replace(\"apple\", \"orange\")\n",
        "print(replaced_string)"
      ],
      "metadata": {
        "colab": {
          "base_uri": "https://localhost:8080/"
        },
        "id": "ATalMLoPQUOP",
        "outputId": "8ca5959c-392b-4b10-e0ff-bbb6c72d6a9f"
      },
      "execution_count": null,
      "outputs": [
        {
          "output_type": "stream",
          "name": "stdout",
          "text": [
            "I like orange\n"
          ]
        }
      ]
    },
    {
      "cell_type": "markdown",
      "source": [
        "Q.6 Write a code to create a list with numbers 1 to 5 and print it...?"
      ],
      "metadata": {
        "id": "JZT0eCKZQm6n"
      }
    },
    {
      "cell_type": "code",
      "source": [
        "#Ans.6\n",
        "numbers = [1, 2, 3, 4, 5]\n",
        "print(numbers)"
      ],
      "metadata": {
        "colab": {
          "base_uri": "https://localhost:8080/"
        },
        "id": "jAv6AHfAQu9e",
        "outputId": "3c232a91-4f68-42c5-df78-57713b8e9ade"
      },
      "execution_count": null,
      "outputs": [
        {
          "output_type": "stream",
          "name": "stdout",
          "text": [
            "[1, 2, 3, 4, 5]\n"
          ]
        }
      ]
    },
    {
      "cell_type": "markdown",
      "source": [
        "Q.7 Write a code to append the number 10 to the list [1, 2, 3, 4]...?"
      ],
      "metadata": {
        "id": "wpsvCEuhQ5pJ"
      }
    },
    {
      "cell_type": "code",
      "source": [
        "#Ans.7\n",
        "my_list = [1, 2, 3, 4]\n",
        "my_list.append(10)\n",
        "print(my_list)"
      ],
      "metadata": {
        "colab": {
          "base_uri": "https://localhost:8080/"
        },
        "id": "EqEHjPcTRB0m",
        "outputId": "e5c6eb6b-b0c7-459d-8b15-3fd1bef06f83"
      },
      "execution_count": null,
      "outputs": [
        {
          "output_type": "stream",
          "name": "stdout",
          "text": [
            "[1, 2, 3, 4, 10]\n"
          ]
        }
      ]
    },
    {
      "cell_type": "markdown",
      "source": [
        "Q.8  Write a code to remove the number 3 from the list [1, 2, 3, 4, 5]...?"
      ],
      "metadata": {
        "id": "gns5yHtvRLeE"
      }
    },
    {
      "cell_type": "code",
      "source": [
        "#Ans.8\n",
        "my_list = [1, 2, 3, 4, 5]\n",
        "my_list.remove(3)\n",
        "print(my_list)"
      ],
      "metadata": {
        "colab": {
          "base_uri": "https://localhost:8080/"
        },
        "id": "1VXsPqPrRREc",
        "outputId": "79e4eaeb-2b8e-4f21-a4a7-cdbf52a99ba1"
      },
      "execution_count": null,
      "outputs": [
        {
          "output_type": "stream",
          "name": "stdout",
          "text": [
            "[1, 2, 4, 5]\n"
          ]
        }
      ]
    },
    {
      "cell_type": "markdown",
      "source": [
        "Q.9  Write a code to access the second element in the list ['a', 'b', 'c', 'd']...?"
      ],
      "metadata": {
        "id": "97ldplQURYxm"
      }
    },
    {
      "cell_type": "code",
      "source": [
        "#Ans.9\n",
        "my_list = ['a', 'b', 'c', 'd']\n",
        "second_element = my_list[1]\n",
        "print(second_element)"
      ],
      "metadata": {
        "colab": {
          "base_uri": "https://localhost:8080/"
        },
        "id": "621nPZ5IRf7d",
        "outputId": "ed20444f-f81c-4caa-b32e-0e8f5d8c9a4b"
      },
      "execution_count": null,
      "outputs": [
        {
          "output_type": "stream",
          "name": "stdout",
          "text": [
            "b\n"
          ]
        }
      ]
    },
    {
      "cell_type": "markdown",
      "source": [
        "Q.10 Write a code to reverse the list [10, 20, 30, 40, 50]..?"
      ],
      "metadata": {
        "id": "MkaHNP1-Rxat"
      }
    },
    {
      "cell_type": "code",
      "source": [
        "#Ans.10\n",
        "my_list = [10, 20, 30, 40, 50]\n",
        "reversed_list = my_list[::-1]\n",
        "print(reversed_list)"
      ],
      "metadata": {
        "colab": {
          "base_uri": "https://localhost:8080/"
        },
        "id": "dF3mDabcR4Fo",
        "outputId": "96054fba-f494-4a7d-d78c-70ecbced0697"
      },
      "execution_count": null,
      "outputs": [
        {
          "output_type": "stream",
          "name": "stdout",
          "text": [
            "[50, 40, 30, 20, 10]\n"
          ]
        }
      ]
    },
    {
      "cell_type": "markdown",
      "source": [
        "Q.11 Write a code to create a tuple with the elements 100, 200, 300 and print it....?"
      ],
      "metadata": {
        "id": "G4YpJrURSARo"
      }
    },
    {
      "cell_type": "code",
      "source": [
        "#Ans.11\n",
        "my_tuple = (100, 200, 300)\n",
        "print(my_tuple)"
      ],
      "metadata": {
        "colab": {
          "base_uri": "https://localhost:8080/"
        },
        "id": "ozikIZAnSG_X",
        "outputId": "acdabaf9-84d8-4489-c382-12aaedcf4327"
      },
      "execution_count": null,
      "outputs": [
        {
          "output_type": "stream",
          "name": "stdout",
          "text": [
            "(100, 200, 300)\n"
          ]
        }
      ]
    },
    {
      "cell_type": "markdown",
      "source": [
        "Q.12 Write a code to access the second-to-last element of the tuple ('red', 'green', 'blue', 'yellow')...?"
      ],
      "metadata": {
        "id": "KHFvL4roSUwz"
      }
    },
    {
      "cell_type": "code",
      "source": [
        "#Ans.12\n",
        "my_tuple = ('red', 'green', 'blue', 'yellow')\n",
        "second_to_last_element = my_tuple[-2]\n",
        "print(second_to_last_element)"
      ],
      "metadata": {
        "colab": {
          "base_uri": "https://localhost:8080/"
        },
        "id": "S4QlMk5pSfD9",
        "outputId": "b26ce44b-32ae-45ad-9864-254954c7f4eb"
      },
      "execution_count": null,
      "outputs": [
        {
          "output_type": "stream",
          "name": "stdout",
          "text": [
            "blue\n"
          ]
        }
      ]
    },
    {
      "cell_type": "markdown",
      "source": [
        "Q.13 Write a code to find the minimum number in the tuple (10, 20, 5, 15)...?"
      ],
      "metadata": {
        "id": "LP6bm3ZpSsPM"
      }
    },
    {
      "cell_type": "code",
      "source": [
        "#Ans.13\n",
        "my_tuple = (10, 20, 5, 15)\n",
        "minimum_number = min(my_tuple)\n",
        "print(minimum_number)"
      ],
      "metadata": {
        "colab": {
          "base_uri": "https://localhost:8080/"
        },
        "id": "lF7obozcS1N1",
        "outputId": "687523e8-95d1-4ef2-ba17-ef5cd54197c6"
      },
      "execution_count": null,
      "outputs": [
        {
          "output_type": "stream",
          "name": "stdout",
          "text": [
            "5\n"
          ]
        }
      ]
    },
    {
      "cell_type": "markdown",
      "source": [
        "Q.14 Write a code to find the index of the element \"cat\" in the tuple ('dog', 'cat', 'rabbit')...?"
      ],
      "metadata": {
        "id": "wNnKm-DZTAzS"
      }
    },
    {
      "cell_type": "code",
      "source": [
        "#Ans.14\n",
        "my_tuple = ('dog', 'cat', 'rabbit')\n",
        "index_of_cat = my_tuple.index('cat')\n",
        "print(index_of_cat)"
      ],
      "metadata": {
        "colab": {
          "base_uri": "https://localhost:8080/"
        },
        "id": "QidzqKqxTIps",
        "outputId": "7a6c5c0e-c386-457c-b1e0-b9bffe02d340"
      },
      "execution_count": null,
      "outputs": [
        {
          "output_type": "stream",
          "name": "stdout",
          "text": [
            "1\n"
          ]
        }
      ]
    },
    {
      "cell_type": "markdown",
      "source": [
        "Q.15 Write a code to create a tuple containing three different fruits and check if \"kiwi\" is in it...?"
      ],
      "metadata": {
        "id": "FIYUz3cOTVYe"
      }
    },
    {
      "cell_type": "code",
      "source": [
        "#Ans.15\n",
        "fruits_tuple = (\"apple\", \"banana\", \"orange\")\n",
        "is_kiwi_in_tuple = \"kiwi\" in fruits_tuple\n",
        "print(is_kiwi_in_tuple)"
      ],
      "metadata": {
        "colab": {
          "base_uri": "https://localhost:8080/"
        },
        "id": "Agbar1uyTda5",
        "outputId": "1ebbf405-0bf9-4992-ad87-62c61f822449"
      },
      "execution_count": null,
      "outputs": [
        {
          "output_type": "stream",
          "name": "stdout",
          "text": [
            "False\n"
          ]
        }
      ]
    },
    {
      "cell_type": "markdown",
      "source": [
        "Q.16 Write a code to create a set with the elements 'a', 'b', 'c' and print it....?"
      ],
      "metadata": {
        "id": "WWVKD6-tTwZt"
      }
    },
    {
      "cell_type": "code",
      "source": [
        "#Ans.16\n",
        "my_set = {'a', 'b', 'c'}\n",
        "print(my_set)"
      ],
      "metadata": {
        "colab": {
          "base_uri": "https://localhost:8080/"
        },
        "id": "l_lV4sp9T150",
        "outputId": "b056a2cf-b39f-42bf-a659-dd2d72cfebe1"
      },
      "execution_count": null,
      "outputs": [
        {
          "output_type": "stream",
          "name": "stdout",
          "text": [
            "{'c', 'a', 'b'}\n"
          ]
        }
      ]
    },
    {
      "cell_type": "markdown",
      "source": [
        "Q.17 Write a code to clear all elements from the set {1, 2, 3, 4, 5}...?"
      ],
      "metadata": {
        "id": "ZTvpt-4AT77j"
      }
    },
    {
      "cell_type": "code",
      "source": [
        "#Ans.17\n",
        "my_set = {1, 2, 3, 4, 5}\n",
        "my_set.clear()\n",
        "print(my_set)"
      ],
      "metadata": {
        "colab": {
          "base_uri": "https://localhost:8080/"
        },
        "id": "0YTredRcULYs",
        "outputId": "02e7c71f-51f1-4aa8-a5a0-ce3a31b7d1c0"
      },
      "execution_count": null,
      "outputs": [
        {
          "output_type": "stream",
          "name": "stdout",
          "text": [
            "set()\n"
          ]
        }
      ]
    },
    {
      "cell_type": "markdown",
      "source": [
        "Q.18 Write a code to remove the element 4 from the set {1, 2, 3, 4}...?"
      ],
      "metadata": {
        "id": "PpOrLM1EUR2w"
      }
    },
    {
      "cell_type": "code",
      "source": [
        "#Ans.18\n",
        "my_set = {1, 2, 3, 4}\n",
        "my_set.remove(4)\n",
        "print(my_set)"
      ],
      "metadata": {
        "colab": {
          "base_uri": "https://localhost:8080/"
        },
        "id": "PxBwGn6LUYJe",
        "outputId": "e37430be-5c8d-46c2-c1e1-cbe8e820a849"
      },
      "execution_count": null,
      "outputs": [
        {
          "output_type": "stream",
          "name": "stdout",
          "text": [
            "{1, 2, 3}\n"
          ]
        }
      ]
    },
    {
      "cell_type": "markdown",
      "source": [
        "Q.19 Write a code to find the union of two sets {1, 2, 3} and {3, 4, 5}....?"
      ],
      "metadata": {
        "id": "TOvJBjEWUo1R"
      }
    },
    {
      "cell_type": "code",
      "source": [
        "#Ans.19\n",
        "set1 = {1, 2, 3}\n",
        "set2 = {3, 4, 5}\n",
        "union_set = set1.union(set2)\n",
        "print(union_set)"
      ],
      "metadata": {
        "colab": {
          "base_uri": "https://localhost:8080/"
        },
        "id": "xjVfW-ZvUt6y",
        "outputId": "d2c03781-9300-48c5-cbe6-b8ee7673ee20"
      },
      "execution_count": null,
      "outputs": [
        {
          "output_type": "stream",
          "name": "stdout",
          "text": [
            "{1, 2, 3, 4, 5}\n"
          ]
        }
      ]
    },
    {
      "cell_type": "markdown",
      "source": [
        "Q.20 Write a code to find the intersection of two sets {1, 2, 3} and {2, 3, 4}....?"
      ],
      "metadata": {
        "id": "eINCKDQBUw6B"
      }
    },
    {
      "cell_type": "code",
      "source": [
        "#Ans\n",
        "set1 = {1, 2, 3}\n",
        "set2 = {2, 3, 4}\n",
        "intersection_set = set1.intersection(set2)\n",
        "print(intersection_set)"
      ],
      "metadata": {
        "colab": {
          "base_uri": "https://localhost:8080/"
        },
        "id": "LevLqnOsU2c6",
        "outputId": "189b89da-56bc-43f9-ca59-90e31a5fd109"
      },
      "execution_count": null,
      "outputs": [
        {
          "output_type": "stream",
          "name": "stdout",
          "text": [
            "{2, 3}\n"
          ]
        }
      ]
    },
    {
      "cell_type": "markdown",
      "source": [
        "Q.21 Write a code to create a dictionary with the keys \"name\", \"age\", and \"city\", and print it....?"
      ],
      "metadata": {
        "id": "saoFAD70U_Ai"
      }
    },
    {
      "cell_type": "code",
      "source": [
        "#Ans.21\n",
        "my_dict = {\n",
        "    \"name\": \"Ajay\",\n",
        "    \"age\": 22,\n",
        "    \"city\": \"New York\"\n",
        "}\n",
        "print(my_dict)"
      ],
      "metadata": {
        "colab": {
          "base_uri": "https://localhost:8080/"
        },
        "id": "IpjJJJLZVEaX",
        "outputId": "d4341362-a98f-4c78-d694-60d991074810"
      },
      "execution_count": null,
      "outputs": [
        {
          "output_type": "stream",
          "name": "stdout",
          "text": [
            "{'name': 'Ajay', 'age': 22, 'city': 'New York'}\n"
          ]
        }
      ]
    },
    {
      "cell_type": "markdown",
      "source": [
        "Q.22 Write a code to add a new key-value pair \"country\": \"USA\" to the dictionary {'name': 'John', 'age': 25}...?"
      ],
      "metadata": {
        "id": "sZjbcMTIVMN1"
      }
    },
    {
      "cell_type": "code",
      "source": [
        "#Ans.22\n",
        "my_dict = {'name': 'John', 'age': 25}\n",
        "my_dict['country'] = 'USA'\n",
        "print(my_dict)"
      ],
      "metadata": {
        "colab": {
          "base_uri": "https://localhost:8080/"
        },
        "id": "w7caQoAwVSFH",
        "outputId": "4a72bb0f-98d8-4f30-b8fd-36981b18b378"
      },
      "execution_count": null,
      "outputs": [
        {
          "output_type": "stream",
          "name": "stdout",
          "text": [
            "{'name': 'John', 'age': 25, 'country': 'USA'}\n"
          ]
        }
      ]
    },
    {
      "cell_type": "markdown",
      "source": [
        "Q.23  Write a code to access the value associated with the key \"name\" in the dictionary {'name': 'Alice', 'age': 30}...?"
      ],
      "metadata": {
        "id": "9RawnobvVcdf"
      }
    },
    {
      "cell_type": "code",
      "source": [
        "#Ans.23\n",
        "my_dict = {'name': 'Alice', 'age': 30}\n",
        "name_value = my_dict['name']\n",
        "print(name_value)"
      ],
      "metadata": {
        "colab": {
          "base_uri": "https://localhost:8080/"
        },
        "id": "QGIrzm1GVi_b",
        "outputId": "10d53ef9-1852-489a-d3a7-329e48f34684"
      },
      "execution_count": null,
      "outputs": [
        {
          "output_type": "stream",
          "name": "stdout",
          "text": [
            "Alice\n"
          ]
        }
      ]
    },
    {
      "cell_type": "markdown",
      "source": [
        "Q.24 Write a code to remove the key \"age\" from the dictionary {'name': 'Bob', 'age': 22, 'city': 'New York'}...?"
      ],
      "metadata": {
        "id": "6U1dFLfGVrfh"
      }
    },
    {
      "cell_type": "code",
      "source": [
        "#Ans.24\n",
        "my_dict = {'name': 'Bob', 'age': 22, 'city': 'New York'}\n",
        "del my_dict['age']\n",
        "print(my_dict)"
      ],
      "metadata": {
        "colab": {
          "base_uri": "https://localhost:8080/"
        },
        "id": "dBjLvcx8Vzqp",
        "outputId": "26ee2260-915d-410e-ede6-705f516f6ea5"
      },
      "execution_count": null,
      "outputs": [
        {
          "output_type": "stream",
          "name": "stdout",
          "text": [
            "{'name': 'Bob', 'city': 'New York'}\n"
          ]
        }
      ]
    },
    {
      "cell_type": "markdown",
      "source": [
        "Q.25 Write a code to check if the key \"city\" exists in the dictionary {'name': 'Alice', 'city': 'Paris'}...?"
      ],
      "metadata": {
        "id": "FFkIkeliV_Yg"
      }
    },
    {
      "cell_type": "code",
      "source": [
        "#Ans.25\n",
        "my_dict = {'name': 'Alice', 'city': 'New York'}\n",
        "city_exists = 'city' in my_dict\n",
        "print(city_exists)"
      ],
      "metadata": {
        "colab": {
          "base_uri": "https://localhost:8080/"
        },
        "id": "Z5vl3ha8WCSR",
        "outputId": "43d6809f-106c-4721-9e32-60c8278dfbdf"
      },
      "execution_count": null,
      "outputs": [
        {
          "output_type": "stream",
          "name": "stdout",
          "text": [
            "True\n"
          ]
        }
      ]
    },
    {
      "cell_type": "markdown",
      "source": [
        "Q.26 Write a code to create a list, a tuple, and a dictionary, and print them all....?"
      ],
      "metadata": {
        "id": "rOgui-bMWcU6"
      }
    },
    {
      "cell_type": "code",
      "source": [
        "#Ans.26\n",
        "my_list = [1, 2, 3, 4, 5]\n",
        "my_tuple = (10, 20, 30, 40, 50)\n",
        "my_dict = {\n",
        "    \"name\": \"Ajay\",\n",
        "    \"age\": 22,\n",
        "    \"city\": \"New York\"\n",
        "}\n",
        "\n",
        "print(\"List:\", my_list)\n",
        "print(\"Tuple:\", my_tuple)\n",
        "print(\"Dictionary:\", my_dict)"
      ],
      "metadata": {
        "colab": {
          "base_uri": "https://localhost:8080/"
        },
        "id": "CFOtT49MWhwg",
        "outputId": "29cb1b45-53a9-4b91-e345-3a40a8a94ac3"
      },
      "execution_count": null,
      "outputs": [
        {
          "output_type": "stream",
          "name": "stdout",
          "text": [
            "List: [1, 2, 3, 4, 5]\n",
            "Tuple: (10, 20, 30, 40, 50)\n",
            "Dictionary: {'name': 'Ajay', 'age': 22, 'city': 'New York'}\n"
          ]
        }
      ]
    },
    {
      "cell_type": "markdown",
      "source": [
        "Q.27  Write a code to create a list of 5 random numbers between 1 and 100, sort it in ascending order, and print the result.(replaced)..?"
      ],
      "metadata": {
        "id": "Ef52RxO3W0La"
      }
    },
    {
      "cell_type": "code",
      "source": [
        "#Ans\n",
        "import random\n",
        "\n",
        "random_numbers = [random.randint(1, 100) for _ in range(5)]\n",
        "random_numbers.sort()\n",
        "print(random_numbers)"
      ],
      "metadata": {
        "colab": {
          "base_uri": "https://localhost:8080/"
        },
        "id": "eOcc9mDwXDnN",
        "outputId": "efedc73b-e413-4efc-dda3-37e49d852ab7"
      },
      "execution_count": null,
      "outputs": [
        {
          "output_type": "stream",
          "name": "stdout",
          "text": [
            "[15, 49, 52, 80, 89]\n"
          ]
        }
      ]
    },
    {
      "cell_type": "markdown",
      "source": [
        "Q.28 Write a code to create a list with strings and print the element at the third index....?"
      ],
      "metadata": {
        "id": "VrfQPuDmXOh0"
      }
    },
    {
      "cell_type": "code",
      "source": [
        "#Ans.28\n",
        "my_list = [\"apple\", \"banana\", \"cherry\", \"date\", \"elderberry\"]\n",
        "third_element = my_list[2]\n",
        "print(third_element)"
      ],
      "metadata": {
        "colab": {
          "base_uri": "https://localhost:8080/"
        },
        "id": "c81tSxOHXU_B",
        "outputId": "6a3de7f7-31ad-48e2-9169-9701be2466d7"
      },
      "execution_count": null,
      "outputs": [
        {
          "output_type": "stream",
          "name": "stdout",
          "text": [
            "cherry\n"
          ]
        }
      ]
    },
    {
      "cell_type": "markdown",
      "source": [
        "Q.29 Write a code to combine two dictionaries into one and print the result....?"
      ],
      "metadata": {
        "id": "5GmTinBNXZVR"
      }
    },
    {
      "cell_type": "code",
      "source": [
        "#Ans.29\n",
        "dict1 = {'a': 1, 'b': 2}\n",
        "dict2 = {'c': 3, 'd': 4}\n",
        "combined_dict = {**dict1, **dict2}\n",
        "print(combined_dict)"
      ],
      "metadata": {
        "colab": {
          "base_uri": "https://localhost:8080/"
        },
        "id": "hjzFYSHrXgut",
        "outputId": "e3d9513c-cfe1-400d-d234-28451184e72e"
      },
      "execution_count": null,
      "outputs": [
        {
          "output_type": "stream",
          "name": "stdout",
          "text": [
            "{'a': 1, 'b': 2, 'c': 3, 'd': 4}\n"
          ]
        }
      ]
    },
    {
      "cell_type": "markdown",
      "source": [
        "Q.30 Write a code to convert a list of strings into a set....?"
      ],
      "metadata": {
        "id": "Wls5K3TuXlYy"
      }
    },
    {
      "cell_type": "code",
      "source": [
        "#Ans.30\n",
        "string_list = [\"apple\", \"banana\", \"cherry\", \"banana\", \"date\"]\n",
        "string_set = set(string_list)\n",
        "print(string_set)"
      ],
      "metadata": {
        "colab": {
          "base_uri": "https://localhost:8080/"
        },
        "id": "jdwDtlCFXqsG",
        "outputId": "9da66aa9-097c-4767-c8c1-428879e0ee14"
      },
      "execution_count": null,
      "outputs": [
        {
          "output_type": "stream",
          "name": "stdout",
          "text": [
            "{'apple', 'cherry', 'date', 'banana'}\n"
          ]
        }
      ]
    }
  ]
}